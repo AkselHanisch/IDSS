{
 "cells": [
  {
   "cell_type": "code",
   "execution_count": 19,
   "metadata": {},
   "outputs": [],
   "source": [
    "def print_prediction(prediction):\n",
    "    if prediction[0] == 1:\n",
    "        print('The student will graduate')\n",
    "    elif prediction[0] == 0:\n",
    "        print('The student will dropout')\n",
    "    else:\n",
    "        print('Student will use extra time to graduate')\n",
    "\n",
    "def print_prediction_proba(prediction, proba):\n",
    "    class_mapping = {0: 'Dropout', 1: 'Graduate', 2: 'Enrolled'}\n",
    "    for i, pred in enumerate(prediction):\n",
    "        predicted_class = class_mapping[pred]\n",
    "        print(f'Prediction: {predicted_class}')\n",
    "        print(f'Class probabilities: {proba[i]}')\n",
    "        print(f'Number of trees voting for each class: {proba[i] * model.n_estimators}')"
   ]
  },
  {
   "cell_type": "code",
   "execution_count": 20,
   "metadata": {},
   "outputs": [
    {
     "name": "stdout",
     "output_type": "stream",
     "text": [
      "Graduate: \n",
      "Prediction: Graduate\n",
      "Class probabilities: [0.05479387 0.87495635 0.07024978]\n",
      "Number of trees voting for each class: [ 2.73969374 43.74781726  3.512489  ]\n",
      "Prediction: Graduate\n",
      "Class probabilities: [0.00154545 0.97217451 0.02628004]\n",
      "Number of trees voting for each class: [ 0.07727273 48.60872549  1.31400178]\n",
      "Prediction: Graduate\n",
      "Class probabilities: [0.08663178 0.80810841 0.1052598 ]\n",
      "Number of trees voting for each class: [ 4.33158915 40.40542066  5.2629902 ]\n",
      "Dropout: \n",
      "Prediction: Dropout\n",
      "Class probabilities: [0.78 0.12 0.1 ]\n",
      "Number of trees voting for each class: [39.  6.  5.]\n",
      "Enrolled: \n",
      "Prediction: Dropout\n",
      "Class probabilities: [0.64 0.02 0.34]\n",
      "Number of trees voting for each class: [32.  1. 17.]\n"
     ]
    },
    {
     "name": "stderr",
     "output_type": "stream",
     "text": [
      "c:\\Users\\aksel\\AppData\\Local\\Programs\\Python\\Python39\\lib\\site-packages\\sklearn\\base.py:493: UserWarning: X does not have valid feature names, but BaggingClassifier was fitted with feature names\n",
      "  warnings.warn(\n",
      "c:\\Users\\aksel\\AppData\\Local\\Programs\\Python\\Python39\\lib\\site-packages\\sklearn\\base.py:493: UserWarning: X does not have valid feature names, but BaggingClassifier was fitted with feature names\n",
      "  warnings.warn(\n",
      "c:\\Users\\aksel\\AppData\\Local\\Programs\\Python\\Python39\\lib\\site-packages\\sklearn\\base.py:493: UserWarning: X does not have valid feature names, but BaggingClassifier was fitted with feature names\n",
      "  warnings.warn(\n",
      "c:\\Users\\aksel\\AppData\\Local\\Programs\\Python\\Python39\\lib\\site-packages\\sklearn\\base.py:493: UserWarning: X does not have valid feature names, but BaggingClassifier was fitted with feature names\n",
      "  warnings.warn(\n",
      "c:\\Users\\aksel\\AppData\\Local\\Programs\\Python\\Python39\\lib\\site-packages\\sklearn\\base.py:493: UserWarning: X does not have valid feature names, but BaggingClassifier was fitted with feature names\n",
      "  warnings.warn(\n",
      "c:\\Users\\aksel\\AppData\\Local\\Programs\\Python\\Python39\\lib\\site-packages\\sklearn\\base.py:493: UserWarning: X does not have valid feature names, but BaggingClassifier was fitted with feature names\n",
      "  warnings.warn(\n"
     ]
    }
   ],
   "source": [
    "import joblib\n",
    "import numpy as np\n",
    "\n",
    "# Load the saved model\n",
    "model = joblib.load('bagging_model.pkl')\n",
    "\n",
    "# Dropout:\n",
    "sample_dropout = np.array([[1, 17, 5, 171, 1, 1, 122, 1, 19, 12, 5, 9, 127.3, 1, 0, 0, 1, 1, 0, 20, 0, 0, 0, 0, 0, 0, 0, 0, 0, 0, 0, 0, 0, 10.8, 1.4, 1.74]])\n",
    "prediction_dropout = model.predict(sample_dropout)\n",
    "proba_dropout = model.predict_proba(sample_dropout)\n",
    "\n",
    "# Graduates:\n",
    "sample_inputs = np.array([\n",
    "    [1, 17, 2, 9773, 1, 1, 122, 1, 38, 37, 5, 3, 119.6, 1, 0, 0, 1, 0, 0, 20, 0, 0, 6, 8, 6, 13.42857143, 0, 0, 6, 10, 5, 12.4, 0, 9.4, -0.8, -3.12],\n",
    "    [2, 39, 1, 8014, 0, 1, 100, 1, 37, 38, 9, 9, 141.5, 0, 0, 0, 1, 0, 0, 45, 0, 0, 6, 9, 5, 12.33333333, 0, 0, 6, 6, 6, 13, 0, 13.9, -0.3, 0.79],\n",
    "    [2, 39, 1, 9991, 0, 19, 133.1, 1, 37, 37, 9, 7, 114.8, 0, 0, 1, 1, 1, 0, 50, 0, 0, 5, 10, 5, 11.85714286, 0, 0, 5, 17, 5, 11.5, 5, 16.2, 0.3, -0.92]\n",
    "])\n",
    "prediction_graduates = model.predict(sample_inputs)\n",
    "proba_graduates = model.predict_proba(sample_inputs)\n",
    "\n",
    "# Enrolled:\n",
    "enrolled_inputs = np.array([\n",
    "    [1, 17, 1, 9991, 0, 1, 154, 1, 38, 38, 4, 5, 134.1, 0, 0, 0, 1, 0, 0, 24, 0, 0, 5, 9, 2, 11.5, 0, 0, 5, 11, 3, 14.33333333, 1, 7.6, 2.6, 0.32]\n",
    "])\n",
    "prediction_enrolled = model.predict(enrolled_inputs)\n",
    "proba_enrolled = model.predict_proba(enrolled_inputs)\n",
    "\n",
    "# Function to print predictions and probabilities\n",
    "\n",
    "\n",
    "print(\"Graduate: \")\n",
    "print_prediction_proba(prediction_graduates, proba_graduates)\n",
    "print(\"Dropout: \")\n",
    "print_prediction_proba(prediction_dropout, proba_dropout)\n",
    "print(\"Enrolled: \")\n",
    "print_prediction_proba(prediction_enrolled, proba_enrolled)\n"
   ]
  },
  {
   "cell_type": "code",
   "execution_count": 23,
   "metadata": {},
   "outputs": [
    {
     "name": "stdout",
     "output_type": "stream",
     "text": [
      "(1,)\n",
      "graduate: \n",
      "The student will graduate\n",
      "dropout: \n",
      "Prediction: Dropout\n",
      "Class probabilities: [0.78 0.12 0.1 ]\n",
      "Number of trees voting for each class: [39.  6.  5.]\n",
      "enrolled: \n",
      "The student will dropout\n"
     ]
    },
    {
     "name": "stderr",
     "output_type": "stream",
     "text": [
      "c:\\Users\\aksel\\AppData\\Local\\Programs\\Python\\Python39\\lib\\site-packages\\sklearn\\base.py:493: UserWarning: X does not have valid feature names, but BaggingClassifier was fitted with feature names\n",
      "  warnings.warn(\n",
      "c:\\Users\\aksel\\AppData\\Local\\Programs\\Python\\Python39\\lib\\site-packages\\sklearn\\base.py:493: UserWarning: X does not have valid feature names, but BaggingClassifier was fitted with feature names\n",
      "  warnings.warn(\n",
      "c:\\Users\\aksel\\AppData\\Local\\Programs\\Python\\Python39\\lib\\site-packages\\sklearn\\base.py:493: UserWarning: X does not have valid feature names, but BaggingClassifier was fitted with feature names\n",
      "  warnings.warn(\n",
      "c:\\Users\\aksel\\AppData\\Local\\Programs\\Python\\Python39\\lib\\site-packages\\sklearn\\base.py:493: UserWarning: X does not have valid feature names, but BaggingClassifier was fitted with feature names\n",
      "  warnings.warn(\n"
     ]
    }
   ],
   "source": [
    "import joblib\n",
    "import numpy as np\n",
    "\n",
    "# Load the saved model\n",
    "model = joblib.load('bagging_model.pkl')\n",
    "\n",
    "# Dropout:\n",
    "sample_dropout = np.array([[1, 17, 5, 171, 1, 1, 122, 1, 19, 12, 5, 9, 127.3, 1, 0, 0, 1, 1, 0, 20, 0, 0, 0, 0, 0, 0, 0, 0, 0, 0, 0, 0, 0, 10.8, 1.4, 1.74]])\n",
    "prediction_dropout = model.predict(sample_dropout)\n",
    "prediction_dropout_proba = model.predict_proba(sample_dropout)\n",
    "\n",
    "#Graduates:\n",
    "sample_inputs = np.array([\n",
    "    [[1, 17, 2, 9773, 1, 1, 122, 1, 38, 37, 5, 3, 119.6, 1, 0, 0, 1, 0, 0, 20, 0, 0, 6, 8, 6, 13.42857143, 0, 0, 6, 10, 5, 12.4, 0, 9.4, -0.8, -3.12]],\n",
    "    [[2, 39, 1, 8014, 0, 1, 100, 1, 37, 38, 9, 9, 141.5, 0, 0, 0, 1, 0, 0, 45, 0, 0, 6, 9, 5, 12.33333333, 0, 0, 6, 6, 6, 13, 0, 13.9, -0.3, 0.79]],\n",
    "    [[2, 39, 1, 9991, 0, 19, 133.1, 1, 37, 37, 9, 7, 114.8, 0, 0, 1, 1, 1, 0, 50, 0, 0, 5, 10, 5, 11.85714286, 0, 0, 5, 17, 5, 11.5, 5, 16.2, 0.3, -0.92]]\n",
    "])\n",
    "\n",
    "enrolled_inputes = np.array([\n",
    "    [1, 17, 1, 9991, 0, 1, 154, 1, 38, 38, 4, 5, 134.1, 0, 0, 0, 1, 0, 0, 24, 0, 0, 5, 9, 2, 11.5, 0, 0, 5, 11, 3, 14.33333333, 1, 7.6, 2.6, 0.32]\n",
    "])\n",
    "# print(sample_inputs[1])\n",
    "\n",
    "prediction = model.predict(sample_inputs[1])\n",
    "\n",
    "prediction_enrolled = model.predict(enrolled_inputes)\n",
    "\n",
    "\n",
    "print(prediction.shape)\n",
    "\n",
    "\n",
    "\n",
    "print(\"graduate: \")\n",
    "print_prediction(prediction)\n",
    "print(\"dropout: \")\n",
    "print_prediction_proba(prediction_dropout, prediction_dropout_proba)\n",
    "print(\"enrolled: \")\n",
    "print_prediction(prediction_enrolled)"
   ]
  },
  {
   "cell_type": "markdown",
   "metadata": {},
   "source": [
    "## Predictor without curriculum "
   ]
  },
  {
   "cell_type": "code",
   "execution_count": 11,
   "metadata": {},
   "outputs": [
    {
     "name": "stdout",
     "output_type": "stream",
     "text": [
      "Prediction: 1\n",
      "The student will graduate\n"
     ]
    },
    {
     "name": "stderr",
     "output_type": "stream",
     "text": [
      "c:\\Users\\aksel\\AppData\\Local\\Programs\\Python\\Python39\\lib\\site-packages\\sklearn\\base.py:493: UserWarning: X does not have valid feature names, but BaggingClassifier was fitted with feature names\n",
      "  warnings.warn(\n"
     ]
    }
   ],
   "source": [
    "import joblib\n",
    "import numpy as np\n",
    "\n",
    "# Load the saved model\n",
    "model = joblib.load('bagging_model_without_curriculum.pkl')\n",
    "\n",
    "\n",
    "# Create a sample input (replace with actual feature values)\n",
    "#Dropout:\n",
    "# sample_input = np.array([[1, 17, 5, 171, 1, 1, 122, 1, 19, 12, 5, 9, 127.3, 1, 0, 0, 1, 1, 0, 20, 0, 0, 0, 0, 0, 0, 0, 0, 0, 0, 0, 0, 10.8, 1.4, 1.74]])\n",
    "\n",
    "#Graduate:\n",
    "# sample_input = np.array([[1, 15, 1, 9254, 1, 1, 160, 1, 1, 3, 3, 3, 142.5, 1, 0, 0, 0, 1, 0, 19, 0, 0, 6, 6, 6, 14, 0, 0, 6, 6, 6, 13.66666667, 13.9, -0.3, 0.79]])# Predict using the loaded model\n",
    "\n",
    "sample_input = np.array([[1, 17, 2, 9773, 1, 122, 1, 38, 37, 5, 3, 119.6, 1, 0, 0, 1, 0, 0, 20, 0, 9.4, -0.8, -3.12]])\n",
    "#Graduates:\n",
    "sample_inputs = np.array([\n",
    "    [[1, 17, 2, 9773, 1, 1, 122, 1, 38, 37, 5, 3, 119.6, 1, 0, 0, 1, 0, 0, 20, 0, 9.4, -0.8, -3.12]],\n",
    "    [[2, 39, 1, 8014, 0, 1, 100, 1, 37, 38, 9, 9, 141.5, 0, 0, 0, 1, 0, 0, 45, 0, 13.9, -0.3, 0.79]],\n",
    "    [[2, 39, 1, 9991, 0, 19, 133.1, 1, 37, 37, 9, 7, 114.8, 0, 0, 1, 1, 1, 0, 50, 0, 16.2, 0.3, -0.92]]\n",
    "])\n",
    "# print(sample_inputs[1])\n",
    "\n",
    "prediction = model.predict(sample_inputs[0])\n",
    "\n",
    "print(f'Prediction: {prediction[0]}')\n",
    "print_prediction(prediction)\n"
   ]
  },
  {
   "cell_type": "markdown",
   "metadata": {},
   "source": [
    "## AdaBoost decision tree"
   ]
  },
  {
   "cell_type": "code",
   "execution_count": 8,
   "metadata": {},
   "outputs": [
    {
     "name": "stdout",
     "output_type": "stream",
     "text": [
      "Prediction: 1\n",
      "The student will graduate\n"
     ]
    },
    {
     "name": "stderr",
     "output_type": "stream",
     "text": [
      "c:\\Users\\aksel\\AppData\\Local\\Programs\\Python\\Python39\\lib\\site-packages\\sklearn\\base.py:493: UserWarning: X does not have valid feature names, but AdaBoostClassifier was fitted with feature names\n",
      "  warnings.warn(\n"
     ]
    }
   ],
   "source": [
    "import joblib\n",
    "import numpy as np\n",
    "\n",
    "# Load the saved model\n",
    "model = joblib.load('ada_boost_model.pkl')\n",
    "\n",
    "#Dropout:\n",
    "sample_input = np.array([[1, 17, 2, 9773, 1, 1, 122, 1, 38, 37, 5, 3, 119.6, 1, 0, 0, 1, 0, 0, 20, 0, 0, 6, 8, 6, 13.42857143, 0, 0, 6, 10, 5, 12.4, 0, 9.4, -0.8, -3.12]])\n",
    "\n",
    "prediction = model.predict(sample_input)\n",
    "print(f'Prediction: {prediction[0]}')\n",
    "\n",
    "print_prediction(prediction)"
   ]
  }
 ],
 "metadata": {
  "kernelspec": {
   "display_name": "Python 3",
   "language": "python",
   "name": "python3"
  },
  "language_info": {
   "codemirror_mode": {
    "name": "ipython",
    "version": 3
   },
   "file_extension": ".py",
   "mimetype": "text/x-python",
   "name": "python",
   "nbconvert_exporter": "python",
   "pygments_lexer": "ipython3",
   "version": "3.9.6"
  }
 },
 "nbformat": 4,
 "nbformat_minor": 2
}
