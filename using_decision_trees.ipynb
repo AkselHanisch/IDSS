{
 "cells": [
  {
   "cell_type": "code",
   "execution_count": null,
   "metadata": {},
   "outputs": [],
   "source": [
    "def print_prediction(prediction):\n",
    "    if prediction[0] == 1:\n",
    "        print('The student will graduate')\n",
    "    elif prediction[0] == 0:\n",
    "        print('The student will dropout')\n",
    "    else:\n",
    "        print('Student will use extra time to graduate')"
   ]
  },
  {
   "cell_type": "code",
   "execution_count": 93,
   "metadata": {},
   "outputs": [
    {
     "name": "stdout",
     "output_type": "stream",
     "text": [
      "(1,)\n",
      "graduate: \n",
      "The student will graduate\n",
      "dropout: \n",
      "The student will dropout\n",
      "enrolled: \n",
      "The student will dropout\n"
     ]
    },
    {
     "name": "stderr",
     "output_type": "stream",
     "text": [
      "c:\\Users\\aksel\\AppData\\Local\\Programs\\Python\\Python39\\lib\\site-packages\\sklearn\\base.py:493: UserWarning: X does not have valid feature names, but BaggingClassifier was fitted with feature names\n",
      "  warnings.warn(\n",
      "c:\\Users\\aksel\\AppData\\Local\\Programs\\Python\\Python39\\lib\\site-packages\\sklearn\\base.py:493: UserWarning: X does not have valid feature names, but BaggingClassifier was fitted with feature names\n",
      "  warnings.warn(\n",
      "c:\\Users\\aksel\\AppData\\Local\\Programs\\Python\\Python39\\lib\\site-packages\\sklearn\\base.py:493: UserWarning: X does not have valid feature names, but BaggingClassifier was fitted with feature names\n",
      "  warnings.warn(\n"
     ]
    }
   ],
   "source": [
    "import joblib\n",
    "import numpy as np\n",
    "\n",
    "# Load the saved model\n",
    "model = joblib.load('bagging_model.pkl')\n",
    "\n",
    "# Dropout:\n",
    "sample_dropout = np.array([[1, 17, 5, 171, 1, 1, 122, 1, 19, 12, 5, 9, 127.3, 1, 0, 0, 1, 1, 0, 20, 0, 0, 0, 0, 0, 0, 0, 0, 0, 0, 0, 0, 0, 10.8, 1.4, 1.74]])\n",
    "prediction_dropout = model.predict(sample_dropout)\n",
    "\n",
    "#Graduates:\n",
    "sample_inputs = np.array([\n",
    "    [[1, 17, 2, 9773, 1, 1, 122, 1, 38, 37, 5, 3, 119.6, 1, 0, 0, 1, 0, 0, 20, 0, 0, 6, 8, 6, 13.42857143, 0, 0, 6, 10, 5, 12.4, 0, 9.4, -0.8, -3.12]],\n",
    "    [[2, 39, 1, 8014, 0, 1, 100, 1, 37, 38, 9, 9, 141.5, 0, 0, 0, 1, 0, 0, 45, 0, 0, 6, 9, 5, 12.33333333, 0, 0, 6, 6, 6, 13, 0, 13.9, -0.3, 0.79]],\n",
    "    [[2, 39, 1, 9991, 0, 19, 133.1, 1, 37, 37, 9, 7, 114.8, 0, 0, 1, 1, 1, 0, 50, 0, 0, 5, 10, 5, 11.85714286, 0, 0, 5, 17, 5, 11.5, 5, 16.2, 0.3, -0.92]]\n",
    "])\n",
    "\n",
    "enrolled_inputes = np.array([\n",
    "    [1, 17, 1, 9991, 0, 1, 154, 1, 38, 38, 4, 5, 134.1, 0, 0, 0, 1, 0, 0, 24, 0, 0, 5, 9, 2, 11.5, 0, 0, 5, 11, 3, 14.33333333, 1, 7.6, 2.6, 0.32]\n",
    "])\n",
    "# print(sample_inputs[1])\n",
    "\n",
    "prediction = model.predict(sample_inputs[1])\n",
    "\n",
    "prediction_enrolled = model.predict(enrolled_inputes)\n",
    "\n",
    "\n",
    "print(prediction.shape)\n",
    "\n",
    "\n",
    "\n",
    "print(\"graduate: \")\n",
    "print_prediction(prediction)\n",
    "print(\"dropout: \")\n",
    "print_prediction(prediction_dropout)\n",
    "print(\"enrolled: \")\n",
    "print_prediction(prediction_enrolled)"
   ]
  },
  {
   "cell_type": "markdown",
   "metadata": {},
   "source": [
    "## Predictor without curriculum "
   ]
  },
  {
   "cell_type": "code",
   "execution_count": 95,
   "metadata": {},
   "outputs": [
    {
     "name": "stdout",
     "output_type": "stream",
     "text": [
      "Prediction: 1\n",
      "The student will graduate\n"
     ]
    },
    {
     "name": "stderr",
     "output_type": "stream",
     "text": [
      "c:\\Users\\aksel\\AppData\\Local\\Programs\\Python\\Python39\\lib\\site-packages\\sklearn\\base.py:493: UserWarning: X does not have valid feature names, but BaggingClassifier was fitted with feature names\n",
      "  warnings.warn(\n"
     ]
    }
   ],
   "source": [
    "import joblib\n",
    "import numpy as np\n",
    "\n",
    "# Load the saved model\n",
    "model = joblib.load('bagging_model_without_curriculum.pkl')\n",
    "\n",
    "# Create a sample input (replace with actual feature values)\n",
    "#Dropout:\n",
    "# sample_input = np.array([[1, 17, 5, 171, 1, 1, 122, 1, 19, 12, 5, 9, 127.3, 1, 0, 0, 1, 1, 0, 20, 0, 0, 0, 0, 0, 0, 0, 0, 0, 0, 0, 0, 10.8, 1.4, 1.74]])\n",
    "\n",
    "#Graduate:\n",
    "# sample_input = np.array([[1, 15, 1, 9254, 1, 1, 160, 1, 1, 3, 3, 3, 142.5, 1, 0, 0, 0, 1, 0, 19, 0, 0, 6, 6, 6, 14, 0, 0, 6, 6, 6, 13.66666667, 13.9, -0.3, 0.79]])# Predict using the loaded model\n",
    "\n",
    "sample_input = np.array([[1, 17, 2, 9773, 1, 122, 1, 38, 37, 5, 3, 119.6, 1, 0, 0, 1, 0, 0, 20, 0, 9.4, -0.8, -3.12]])\n",
    "#Graduates:\n",
    "sample_inputs = np.array([\n",
    "    [[1, 17, 2, 9773, 1, 1, 122, 1, 38, 37, 5, 3, 119.6, 1, 0, 0, 1, 0, 0, 20, 0, 9.4, -0.8, -3.12]],\n",
    "    [[2, 39, 1, 8014, 0, 1, 100, 1, 37, 38, 9, 9, 141.5, 0, 0, 0, 1, 0, 0, 45, 0, 13.9, -0.3, 0.79]],\n",
    "    [[2, 39, 1, 9991, 0, 19, 133.1, 1, 37, 37, 9, 7, 114.8, 0, 0, 1, 1, 1, 0, 50, 0, 16.2, 0.3, -0.92]]\n",
    "])\n",
    "# print(sample_inputs[1])\n",
    "\n",
    "prediction = model.predict(sample_inputs[0])\n",
    "\n",
    "print(f'Prediction: {prediction[0]}')\n",
    "print_prediction(prediction)\n"
   ]
  },
  {
   "cell_type": "markdown",
   "metadata": {},
   "source": [
    "## AdaBoost decision tree"
   ]
  },
  {
   "cell_type": "code",
   "execution_count": 97,
   "metadata": {},
   "outputs": [
    {
     "name": "stdout",
     "output_type": "stream",
     "text": [
      "Prediction: 1\n",
      "The student will graduate\n"
     ]
    },
    {
     "name": "stderr",
     "output_type": "stream",
     "text": [
      "c:\\Users\\aksel\\AppData\\Local\\Programs\\Python\\Python39\\lib\\site-packages\\sklearn\\base.py:493: UserWarning: X does not have valid feature names, but AdaBoostClassifier was fitted with feature names\n",
      "  warnings.warn(\n"
     ]
    }
   ],
   "source": [
    "import joblib\n",
    "import numpy as np\n",
    "\n",
    "# Load the saved model\n",
    "model = joblib.load('ada_boost_model.pkl')\n",
    "\n",
    "#Dropout:\n",
    "sample_input = np.array([[1, 17, 2, 9773, 1, 1, 122, 1, 38, 37, 5, 3, 119.6, 1, 0, 0, 1, 0, 0, 20, 0, 0, 6, 8, 6, 13.42857143, 0, 0, 6, 10, 5, 12.4, 0, 9.4, -0.8, -3.12]])\n",
    "\n",
    "prediction = model.predict(sample_input)\n",
    "print(f'Prediction: {prediction[0]}')\n",
    "\n",
    "print_prediction(prediction)"
   ]
  }
 ],
 "metadata": {
  "kernelspec": {
   "display_name": "Python 3",
   "language": "python",
   "name": "python3"
  },
  "language_info": {
   "codemirror_mode": {
    "name": "ipython",
    "version": 3
   },
   "file_extension": ".py",
   "mimetype": "text/x-python",
   "name": "python",
   "nbconvert_exporter": "python",
   "pygments_lexer": "ipython3",
   "version": "3.9.6"
  }
 },
 "nbformat": 4,
 "nbformat_minor": 2
}
